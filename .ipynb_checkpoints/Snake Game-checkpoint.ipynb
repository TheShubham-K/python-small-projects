{
 "cells": [
  {
   "cell_type": "markdown",
   "metadata": {},
   "source": [
    "Snake Class"
   ]
  },
  {
   "cell_type": "code",
   "execution_count": 1,
   "metadata": {},
   "outputs": [
    {
     "ename": "IndentationError",
     "evalue": "expected an indented block (<ipython-input-1-7ea349b95ff4>, line 9)",
     "output_type": "error",
     "traceback": [
      "\u001b[1;36m  File \u001b[1;32m\"<ipython-input-1-7ea349b95ff4>\"\u001b[1;36m, line \u001b[1;32m9\u001b[0m\n\u001b[1;33m    def eat_food(self, food):\u001b[0m\n\u001b[1;37m      ^\u001b[0m\n\u001b[1;31mIndentationError\u001b[0m\u001b[1;31m:\u001b[0m expected an indented block\n"
     ]
    }
   ],
   "source": [
    "class Snake(object):\n",
    "\n",
    "    def __init__(self, x, y, window):\n",
    "        # initialize snake:\n",
    "        # - create head\n",
    "        # - create body\n",
    "        # - set starting x, y position\n",
    "\n",
    "    def eat_food(self, food):\n",
    "        # remove food\n",
    "        # stretch body\n",
    "        # add score\n",
    "        # make the game faster\n",
    "\n",
    "    def update(self):\n",
    "        # update snake location (move the snake)\n",
    "\n",
    "    def render(self):\n",
    "        # draw the snake in the console using curses\n",
    "\n",
    "    def move(self):\n",
    "        # move up down left right"
   ]
  },
  {
   "cell_type": "code",
   "execution_count": null,
   "metadata": {},
   "outputs": [],
   "source": []
  }
 ],
 "metadata": {
  "kernelspec": {
   "display_name": "Python 3",
   "language": "python",
   "name": "python3"
  },
  "language_info": {
   "codemirror_mode": {
    "name": "ipython",
    "version": 3
   },
   "file_extension": ".py",
   "mimetype": "text/x-python",
   "name": "python",
   "nbconvert_exporter": "python",
   "pygments_lexer": "ipython3",
   "version": "3.7.1"
  }
 },
 "nbformat": 4,
 "nbformat_minor": 2
}
