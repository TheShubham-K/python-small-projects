{
 "cells": [
  {
   "cell_type": "markdown",
   "metadata": {},
   "source": [
    "# Snake Class"
   ]
  },
  {
   "cell_type": "code",
   "execution_count": 32,
   "metadata": {},
   "outputs": [
    {
     "ename": "ModuleNotFoundError",
     "evalue": "No module named '_curses'",
     "output_type": "error",
     "traceback": [
      "\u001b[1;31m---------------------------------------------------------------------------\u001b[0m",
      "\u001b[1;31mModuleNotFoundError\u001b[0m                       Traceback (most recent call last)",
      "\u001b[1;32m<ipython-input-32-3662ff149070>\u001b[0m in \u001b[0;36m<module>\u001b[1;34m\u001b[0m\n\u001b[1;32m----> 1\u001b[1;33m \u001b[1;32mfrom\u001b[0m \u001b[0mcurses\u001b[0m \u001b[1;32mimport\u001b[0m \u001b[1;33m*\u001b[0m\u001b[1;33m\u001b[0m\u001b[1;33m\u001b[0m\u001b[0m\n\u001b[0m\u001b[0;32m      2\u001b[0m \u001b[1;32mfrom\u001b[0m \u001b[0mcurses\u001b[0m \u001b[1;32mimport\u001b[0m \u001b[0mKEY_RIGHT\u001b[0m\u001b[1;33m,\u001b[0m \u001b[0mKEY_LEFT\u001b[0m\u001b[1;33m,\u001b[0m \u001b[0mKEY_DOWN\u001b[0m\u001b[1;33m,\u001b[0m \u001b[0mKEY_UP\u001b[0m\u001b[1;33m\u001b[0m\u001b[1;33m\u001b[0m\u001b[0m\n\u001b[0;32m      3\u001b[0m \u001b[1;32mfrom\u001b[0m \u001b[0mrandom\u001b[0m \u001b[1;32mimport\u001b[0m \u001b[0mrandint\u001b[0m\u001b[1;33m\u001b[0m\u001b[1;33m\u001b[0m\u001b[0m\n",
      "\u001b[1;32m~\\Anaconda3\\lib\\curses\\__init__.py\u001b[0m in \u001b[0;36m<module>\u001b[1;34m\u001b[0m\n\u001b[0;32m     11\u001b[0m \"\"\"\n\u001b[0;32m     12\u001b[0m \u001b[1;33m\u001b[0m\u001b[0m\n\u001b[1;32m---> 13\u001b[1;33m \u001b[1;32mfrom\u001b[0m \u001b[0m_curses\u001b[0m \u001b[1;32mimport\u001b[0m \u001b[1;33m*\u001b[0m\u001b[1;33m\u001b[0m\u001b[1;33m\u001b[0m\u001b[0m\n\u001b[0m\u001b[0;32m     14\u001b[0m \u001b[1;32mimport\u001b[0m \u001b[0mos\u001b[0m \u001b[1;32mas\u001b[0m \u001b[0m_os\u001b[0m\u001b[1;33m\u001b[0m\u001b[1;33m\u001b[0m\u001b[0m\n\u001b[0;32m     15\u001b[0m \u001b[1;32mimport\u001b[0m \u001b[0msys\u001b[0m \u001b[1;32mas\u001b[0m \u001b[0m_sys\u001b[0m\u001b[1;33m\u001b[0m\u001b[1;33m\u001b[0m\u001b[0m\n",
      "\u001b[1;31mModuleNotFoundError\u001b[0m: No module named '_curses'"
     ]
    }
   ],
   "source": [
    "from curses import *\n",
    "from curses import KEY_RIGHT, KEY_LEFT, KEY_DOWN, KEY_UP\n",
    "from random import randint"
   ]
  },
  {
   "cell_type": "code",
   "execution_count": 10,
   "metadata": {},
   "outputs": [],
   "source": [
    "# Dimensions\n",
    "\n",
    "WIDTH = 120\n",
    "HEIGHT = 30\n",
    "MAX_X = WIDTH - 2\n",
    "MAX_Y = HEIGHT - 2\n",
    "SNAKE_LENGTH = 5\n",
    "SNAKE_X = SNAKE_LENGTH + 1\n",
    "SNAKE_Y = 3\n",
    "TIMEOUT = 100"
   ]
  },
  {
   "cell_type": "code",
   "execution_count": 11,
   "metadata": {},
   "outputs": [
    {
     "ename": "NameError",
     "evalue": "name 'KEY_UP' is not defined",
     "output_type": "error",
     "traceback": [
      "\u001b[1;31m---------------------------------------------------------------------------\u001b[0m",
      "\u001b[1;31mNameError\u001b[0m                                 Traceback (most recent call last)",
      "\u001b[1;32m<ipython-input-11-fc2e2b55619b>\u001b[0m in \u001b[0;36m<module>\u001b[1;34m\u001b[0m\n\u001b[1;32m----> 1\u001b[1;33m \u001b[1;32mclass\u001b[0m \u001b[0mSnake\u001b[0m\u001b[1;33m(\u001b[0m\u001b[0mobject\u001b[0m\u001b[1;33m)\u001b[0m\u001b[1;33m:\u001b[0m\u001b[1;33m\u001b[0m\u001b[1;33m\u001b[0m\u001b[0m\n\u001b[0m\u001b[0;32m      2\u001b[0m     REV_DIR_MAP = {\n\u001b[0;32m      3\u001b[0m         \u001b[0mKEY_UP\u001b[0m\u001b[1;33m:\u001b[0m \u001b[0mKEY_DOWN\u001b[0m\u001b[1;33m,\u001b[0m \u001b[0mKEY_DOWN\u001b[0m\u001b[1;33m:\u001b[0m \u001b[0mKEY_UP\u001b[0m\u001b[1;33m,\u001b[0m\u001b[1;33m\u001b[0m\u001b[1;33m\u001b[0m\u001b[0m\n\u001b[0;32m      4\u001b[0m         \u001b[0mKEY_LEFT\u001b[0m\u001b[1;33m:\u001b[0m \u001b[0mKEY_RIGHT\u001b[0m\u001b[1;33m,\u001b[0m \u001b[0mKEY_RIGHT\u001b[0m\u001b[1;33m:\u001b[0m \u001b[0mKEY_LEFT\u001b[0m\u001b[1;33m,\u001b[0m\u001b[1;33m\u001b[0m\u001b[1;33m\u001b[0m\u001b[0m\n\u001b[0;32m      5\u001b[0m     }\n",
      "\u001b[1;32m<ipython-input-11-fc2e2b55619b>\u001b[0m in \u001b[0;36mSnake\u001b[1;34m()\u001b[0m\n\u001b[0;32m      1\u001b[0m \u001b[1;32mclass\u001b[0m \u001b[0mSnake\u001b[0m\u001b[1;33m(\u001b[0m\u001b[0mobject\u001b[0m\u001b[1;33m)\u001b[0m\u001b[1;33m:\u001b[0m\u001b[1;33m\u001b[0m\u001b[1;33m\u001b[0m\u001b[0m\n\u001b[0;32m      2\u001b[0m     REV_DIR_MAP = {\n\u001b[1;32m----> 3\u001b[1;33m         \u001b[0mKEY_UP\u001b[0m\u001b[1;33m:\u001b[0m \u001b[0mKEY_DOWN\u001b[0m\u001b[1;33m,\u001b[0m \u001b[0mKEY_DOWN\u001b[0m\u001b[1;33m:\u001b[0m \u001b[0mKEY_UP\u001b[0m\u001b[1;33m,\u001b[0m\u001b[1;33m\u001b[0m\u001b[1;33m\u001b[0m\u001b[0m\n\u001b[0m\u001b[0;32m      4\u001b[0m         \u001b[0mKEY_LEFT\u001b[0m\u001b[1;33m:\u001b[0m \u001b[0mKEY_RIGHT\u001b[0m\u001b[1;33m,\u001b[0m \u001b[0mKEY_RIGHT\u001b[0m\u001b[1;33m:\u001b[0m \u001b[0mKEY_LEFT\u001b[0m\u001b[1;33m,\u001b[0m\u001b[1;33m\u001b[0m\u001b[1;33m\u001b[0m\u001b[0m\n\u001b[0;32m      5\u001b[0m     }\n",
      "\u001b[1;31mNameError\u001b[0m: name 'KEY_UP' is not defined"
     ]
    }
   ],
   "source": [
    "class Snake(object):\n",
    "    REV_DIR_MAP = {\n",
    "        KEY_UP: KEY_DOWN, KEY_DOWN: KEY_UP,\n",
    "        KEY_LEFT: KEY_RIGHT, KEY_RIGHT: KEY_LEFT,\n",
    "    }\n",
    "    \n",
    "    def __init__(self, x, y, window):\n",
    "        self.body_list = []\n",
    "        self.hit_score = 0\n",
    "        self.timeout = TIMEOUT\n",
    "        # buat body snake\n",
    "        for i in range(SNAKE_LENGTH, 0, -1):\n",
    "            self.body_list.append(Body(x - i, y))\n",
    "        # buat kepala snake\n",
    "        self.body_list.append(Body(x, y, '@'))\n",
    "        self.window = window\n",
    "        self.direction = KEY_RIGHT\n",
    "        self.last_head_coor = (x, y)\n",
    "        self.direction_map = {\n",
    "            KEY_UP: self.move_up,\n",
    "            KEY_DOWN: self.move_down,\n",
    "            KEY_LEFT: self.move_left,\n",
    "            KEY_RIGHT: self.move_right\n",
    "        }"
   ]
  },
  {
   "cell_type": "code",
   "execution_count": 14,
   "metadata": {},
   "outputs": [],
   "source": [
    "@property\n",
    "def score(self):\n",
    "     return 'Score : {}'.format(self.hit_score)\n",
    "    \n",
    "def add_body(self, body_list):\n",
    "     self.body_list.extend(body_list)\n",
    "\n",
    "def eat_food(self, food):\n",
    "    food.reset()\n",
    "    body = Body(self.last_head_coor[0], self.last_head_coor[1])\n",
    "    self.body_list.insert(-1, body)\n",
    "    self.hit_score += 1\n",
    "    if self.hit_score % 3 == 0:\n",
    "        self.timeout -= 5\n",
    "        self.window.timeout(self.timeout)"
   ]
  },
  {
   "cell_type": "code",
   "execution_count": 15,
   "metadata": {},
   "outputs": [],
   "source": [
    "@property\n",
    "def nabrak(self):\n",
    "    return any([body.coor == self.kepala.coor\n",
    "                for body in self.body_list[:-1]])\n",
    "\n",
    "def update(self):\n",
    "    # merubah posisi body snake dengan body yg didepannya,\n",
    "    # dimulai dari belakang\n",
    "    # for idx, body in enumerate(self.body_list[:-1]):\n",
    "    #    body.x = self.body_list[idx+1].x\n",
    "    #    body.y = self.body_list[idx+1].y\n",
    "    last_body = self.body_list.pop(0)\n",
    "    last_body.x = self.body_list[-1].x\n",
    "    last_body.y = self.body_list[-1].y\n",
    "    self.body_list.insert(-1, last_body)\n",
    "\n",
    "    self.last_head_coor = (self.kepala.x, self.kepala.y)\n",
    "    self.direction_map[self.direction]()\n",
    "\n",
    "def change_direction(self, direction):\n",
    "    if direction != Snake.REV_DIR_MAP[self.direction]:\n",
    "        self.direction = direction\n",
    "\n",
    "def render(self):\n",
    "    for body in self.body_list:\n",
    "        self.window.addstr(body.y, body.x, body.char)"
   ]
  },
  {
   "cell_type": "code",
   "execution_count": 16,
   "metadata": {},
   "outputs": [],
   "source": [
    "@property\n",
    "def kepala(self):\n",
    "    return self.body_list[-1]\n",
    "\n",
    "@property\n",
    "def coor(self):\n",
    "    return self.kepala.x, self.kepala.y\n",
    "\n",
    "def move_up(self):\n",
    "    self.kepala.y -= 1\n",
    "    if self.kepala.y < 1:\n",
    "        self.kepala.y = MAX_Y\n",
    "\n",
    "def move_down(self):\n",
    "    self.kepala.y += 1\n",
    "    if self.kepala.y > MAX_Y:\n",
    "        self.kepala.y = 1\n",
    "\n",
    "def move_left(self):\n",
    "    self.kepala.x -= 1\n",
    "    if self.kepala.x < 1:\n",
    "        self.kepala.x = MAX_X\n",
    "\n",
    "def move_right(self):\n",
    "    self.kepala.x += 1\n",
    "    if self.kepala.x > MAX_X:\n",
    "        self.kepala.x = 1"
   ]
  },
  {
   "cell_type": "code",
   "execution_count": 17,
   "metadata": {},
   "outputs": [],
   "source": [
    "class Body(object):\n",
    "    def __init__(self, x, y, char='#'):\n",
    "        self.x = x\n",
    "        self.y = y\n",
    "        self.char = char\n",
    "\n",
    "    @property\n",
    "    def coor(self):\n",
    "        return self.x, self.y"
   ]
  },
  {
   "cell_type": "code",
   "execution_count": 18,
   "metadata": {},
   "outputs": [],
   "source": [
    "class Food(object):\n",
    "    def __init__(self, window, char='*'):\n",
    "        self.x = randint(1, MAX_X)\n",
    "        self.y = randint(1, MAX_Y)\n",
    "        self.char = char\n",
    "        self.window = window\n",
    "\n",
    "    def render(self):\n",
    "        self.window.addstr(self.y, self.x, self.char)\n",
    "\n",
    "    def reset(self):\n",
    "        self.x = randint(1, MAX_X)\n",
    "        self.y = randint(1, MAX_Y)"
   ]
  },
  {
   "cell_type": "code",
   "execution_count": 19,
   "metadata": {},
   "outputs": [
    {
     "ename": "NameError",
     "evalue": "name 'curses' is not defined",
     "output_type": "error",
     "traceback": [
      "\u001b[1;31m---------------------------------------------------------------------------\u001b[0m",
      "\u001b[1;31mNameError\u001b[0m                                 Traceback (most recent call last)",
      "\u001b[1;32m<ipython-input-19-e8e3b65ac0ee>\u001b[0m in \u001b[0;36m<module>\u001b[1;34m\u001b[0m\n\u001b[0;32m      1\u001b[0m \u001b[1;32mif\u001b[0m \u001b[0m__name__\u001b[0m \u001b[1;33m==\u001b[0m \u001b[1;34m'__main__'\u001b[0m\u001b[1;33m:\u001b[0m\u001b[1;33m\u001b[0m\u001b[1;33m\u001b[0m\u001b[0m\n\u001b[1;32m----> 2\u001b[1;33m     \u001b[0mcurses\u001b[0m\u001b[1;33m.\u001b[0m\u001b[0minitscr\u001b[0m\u001b[1;33m(\u001b[0m\u001b[1;33m)\u001b[0m\u001b[1;33m\u001b[0m\u001b[1;33m\u001b[0m\u001b[0m\n\u001b[0m\u001b[0;32m      3\u001b[0m     \u001b[0mwindow\u001b[0m \u001b[1;33m=\u001b[0m \u001b[0mcurses\u001b[0m\u001b[1;33m.\u001b[0m\u001b[0mnewwin\u001b[0m\u001b[1;33m(\u001b[0m\u001b[0mHEIGHT\u001b[0m\u001b[1;33m,\u001b[0m \u001b[0mWIDTH\u001b[0m\u001b[1;33m,\u001b[0m \u001b[1;36m0\u001b[0m\u001b[1;33m,\u001b[0m \u001b[1;36m0\u001b[0m\u001b[1;33m)\u001b[0m\u001b[1;33m\u001b[0m\u001b[1;33m\u001b[0m\u001b[0m\n\u001b[0;32m      4\u001b[0m     \u001b[0mwindow\u001b[0m\u001b[1;33m.\u001b[0m\u001b[0mtimeout\u001b[0m\u001b[1;33m(\u001b[0m\u001b[0mTIMEOUT\u001b[0m\u001b[1;33m)\u001b[0m\u001b[1;33m\u001b[0m\u001b[1;33m\u001b[0m\u001b[0m\n\u001b[0;32m      5\u001b[0m     \u001b[0mwindow\u001b[0m\u001b[1;33m.\u001b[0m\u001b[0mkeypad\u001b[0m\u001b[1;33m(\u001b[0m\u001b[1;36m1\u001b[0m\u001b[1;33m)\u001b[0m\u001b[1;33m\u001b[0m\u001b[1;33m\u001b[0m\u001b[0m\n",
      "\u001b[1;31mNameError\u001b[0m: name 'curses' is not defined"
     ]
    }
   ],
   "source": [
    "if __name__ == '__main__':\n",
    "    curses.initscr()\n",
    "    window = curses.newwin(HEIGHT, WIDTH, 0, 0)\n",
    "    window.timeout(TIMEOUT)\n",
    "    window.keypad(1)\n",
    "    curses.noecho()\n",
    "    curses.curs_set(0)\n",
    "    window.border(0)\n",
    "\n",
    "    snake = Snake(SNAKE_X, SNAKE_Y, window)\n",
    "    food = Food(window, '&')\n",
    "\n",
    "    while True:\n",
    "        window.clear()\n",
    "        window.border(0)\n",
    "        snake.render()\n",
    "        food.render()\n",
    "        window.addstr(0, 5, snake.score)\n",
    "        event = window.getch()\n",
    "\n",
    "        if event == 27:\n",
    "            break\n",
    "\n",
    "        if event in [KEY_UP, KEY_DOWN, KEY_LEFT, KEY_RIGHT]:\n",
    "            snake.change_direction(event)\n",
    "\n",
    "        if snake.kepala.x == food.x and snake.kepala.y == food.y:\n",
    "            snake.eat_food(food)\n",
    "\n",
    "        if event == 32:\n",
    "            key = -1\n",
    "            while key != 32:\n",
    "                key = window.getch()\n",
    "\n",
    "        snake.update()\n",
    "        if snake.nabrak:\n",
    "            break\n",
    "\n",
    "    curses.endwin()"
   ]
  },
  {
   "cell_type": "code",
   "execution_count": null,
   "metadata": {},
   "outputs": [],
   "source": []
  }
 ],
 "metadata": {
  "kernelspec": {
   "display_name": "Python 3",
   "language": "python",
   "name": "python3"
  },
  "language_info": {
   "codemirror_mode": {
    "name": "ipython",
    "version": 3
   },
   "file_extension": ".py",
   "mimetype": "text/x-python",
   "name": "python",
   "nbconvert_exporter": "python",
   "pygments_lexer": "ipython3",
   "version": "3.7.1"
  }
 },
 "nbformat": 4,
 "nbformat_minor": 2
}
